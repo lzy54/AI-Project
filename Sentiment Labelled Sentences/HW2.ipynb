{
 "cells": [
  {
   "cell_type": "code",
   "execution_count": 1,
   "metadata": {},
   "outputs": [],
   "source": [
    "import nltk\n",
    "from nltk.tokenize import word_tokenize\n",
    "import numpy as np\n",
    "import pandas as pd\n",
    "import string\n"
   ]
  },
  {
   "cell_type": "code",
   "execution_count": 3,
   "metadata": {},
   "outputs": [
    {
     "name": "stderr",
     "output_type": "stream",
     "text": [
      "[nltk_data] Downloading package punkt to\n",
      "[nltk_data]     /Users/lizhuoyang/nltk_data...\n",
      "[nltk_data]   Package punkt is already up-to-date!\n"
     ]
    }
   ],
   "source": [
    "# Download NLTK data file (only on first run)\n",
    "nltk.download('punkt')\n",
    "# Path to the merged data file\n",
    "data_file = '111.txt'"
   ]
  },
  {
   "cell_type": "code",
   "execution_count": 4,
   "metadata": {},
   "outputs": [],
   "source": [
    "# List of sentences and labels\n",
    "sentences = []\n",
    "# 0:negative or 1:positive\n",
    "labels = []"
   ]
  },
  {
   "cell_type": "code",
   "execution_count": 5,
   "metadata": {},
   "outputs": [],
   "source": [
    "# Get the data\n",
    "with open(data_file, 'r', encoding='utf-8') as file:\n",
    "    for line in file:\n",
    "        # Split the line into sentence and label\n",
    "        sentence, label = line.split('\\t', 1)\n",
    "        # Append the sentence and label to the lists\n",
    "        sentences.append(sentence)\n",
    "        # label is 0 or 1, so we need to convert it to int\n",
    "        labels.append(int(label))\n",
    "        \n",
    "            "
   ]
  },
  {
   "cell_type": "code",
   "execution_count": 6,
   "metadata": {},
   "outputs": [],
   "source": [
    "# Tokenize the sentences and remove punctuation\n",
    "tokenized_sentences = []\n",
    "for sentence in sentences:\n",
    "    # Tokenize the sentence\n",
    "    tokens = word_tokenize(sentence.lower())\n",
    "    # Remove punctuation\n",
    "    tokens = [word for word in tokens if word not in string.punctuation]\n",
    "    # Append the tokenized sentence to the list\n",
    "    tokenized_sentences.append(tokens)"
   ]
  },
  {
   "cell_type": "code",
   "execution_count": 7,
   "metadata": {},
   "outputs": [],
   "source": [
    "# vocabulary\n",
    "vocabulary = {}\n",
    "for tokens in tokenized_sentences:\n",
    "    for token in tokens:\n",
    "        if token not in vocabulary:\n",
    "            vocabulary[token] = len(vocabulary)"
   ]
  },
  {
   "cell_type": "code",
   "execution_count": 8,
   "metadata": {},
   "outputs": [],
   "source": [
    "# Set up the matrix\n",
    "M = len(tokenized_sentences)\n",
    "N = len(vocabulary)\n",
    "D = np.zeros((M, N), dtype=int)\n",
    "\n",
    "for i, tokens in enumerate(tokenized_sentences):\n",
    "    for token in tokens:\n",
    "        j = vocabulary[token]\n",
    "        D[i,j] += 1"
   ]
  },
  {
   "cell_type": "code",
   "execution_count": 9,
   "metadata": {},
   "outputs": [],
   "source": [
    "df_D = pd.DataFrame(D, columns=vocabulary.keys())\n",
    "# Add the labels to the DataFrame if needed\n",
    "df_D['label'] = labels\n",
    "\n",
    "# Save the DataFrame to a CSV file\n",
    "df_D.to_csv('111.csv', index=False)"
   ]
  }
 ],
 "metadata": {
  "kernelspec": {
   "display_name": "Python 3",
   "language": "python",
   "name": "python3"
  },
  "language_info": {
   "codemirror_mode": {
    "name": "ipython",
    "version": 3
   },
   "file_extension": ".py",
   "mimetype": "text/x-python",
   "name": "python",
   "nbconvert_exporter": "python",
   "pygments_lexer": "ipython3",
   "version": "3.12.2"
  }
 },
 "nbformat": 4,
 "nbformat_minor": 2
}
